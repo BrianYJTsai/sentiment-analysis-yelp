{
 "cells": [
  {
   "cell_type": "code",
   "execution_count": 1,
   "metadata": {},
   "outputs": [],
   "source": [
    "import pandas as pd\n",
    "import os,sys"
   ]
  },
  {
   "cell_type": "code",
   "execution_count": 2,
   "metadata": {},
   "outputs": [
    {
     "name": "stdout",
     "output_type": "stream",
     "text": [
      "{'business_id': 'f9NumwFMBDn751xgFiRbNA', 'name': 'The Range At Lake Norman', 'address': '10913 Bailey Rd', 'city': 'Cornelius', 'state': 'NC', 'postal_code': '28031', 'latitude': 35.4627242, 'longitude': -80.8526119, 'stars': 3.5, 'review_count': 36, 'is_open': 1, 'attributes': {'BusinessAcceptsCreditCards': 'True', 'BikeParking': 'True', 'GoodForKids': 'False', 'BusinessParking': \"{'garage': False, 'street': False, 'validated': False, 'lot': True, 'valet': False}\", 'ByAppointmentOnly': 'False', 'RestaurantsPriceRange2': '3'}, 'categories': 'Active Life, Gun/Rifle Ranges, Guns & Ammo, Shopping', 'hours': {'Monday': '10:0-18:0', 'Tuesday': '11:0-20:0', 'Wednesday': '10:0-18:0', 'Thursday': '11:0-20:0', 'Friday': '11:0-20:0', 'Saturday': '11:0-20:0', 'Sunday': '13:0-18:0'}}\n"
     ]
    }
   ],
   "source": [
    "import json\n",
    "businesses = []\n",
    "for line in open('/Users/isabelli/Downloads/yelp_dataset/yelp_academic_dataset_business.json', 'r',encoding=\"utf8\"):\n",
    "    businesses.append(json.loads(line))\n",
    "print(businesses[0])"
   ]
  },
  {
   "cell_type": "code",
   "execution_count": 4,
   "metadata": {},
   "outputs": [],
   "source": [
    "bus1 = businesses[0]"
   ]
  },
  {
   "cell_type": "code",
   "execution_count": 5,
   "metadata": {},
   "outputs": [
    {
     "name": "stdout",
     "output_type": "stream",
     "text": [
      "dict_keys(['business_id', 'name', 'address', 'city', 'state', 'postal_code', 'latitude', 'longitude', 'stars', 'review_count', 'is_open', 'attributes', 'categories', 'hours'])\n"
     ]
    }
   ],
   "source": [
    "print(bus1.keys())"
   ]
  },
  {
   "cell_type": "code",
   "execution_count": 7,
   "metadata": {},
   "outputs": [
    {
     "data": {
      "text/html": [
       "<div>\n",
       "<style scoped>\n",
       "    .dataframe tbody tr th:only-of-type {\n",
       "        vertical-align: middle;\n",
       "    }\n",
       "\n",
       "    .dataframe tbody tr th {\n",
       "        vertical-align: top;\n",
       "    }\n",
       "\n",
       "    .dataframe thead th {\n",
       "        text-align: right;\n",
       "    }\n",
       "</style>\n",
       "<table border=\"1\" class=\"dataframe\">\n",
       "  <thead>\n",
       "    <tr style=\"text-align: right;\">\n",
       "      <th></th>\n",
       "      <th>business_id</th>\n",
       "      <th>name</th>\n",
       "      <th>address</th>\n",
       "      <th>city</th>\n",
       "      <th>state</th>\n",
       "      <th>postal_code</th>\n",
       "      <th>latitude</th>\n",
       "      <th>longitude</th>\n",
       "      <th>stars</th>\n",
       "      <th>review_count</th>\n",
       "      <th>...</th>\n",
       "      <th>attributes_BestNights</th>\n",
       "      <th>attributes_Music</th>\n",
       "      <th>attributes_Smoking</th>\n",
       "      <th>attributes_DietaryRestrictions</th>\n",
       "      <th>attributes_DriveThru</th>\n",
       "      <th>attributes_HairSpecializesIn</th>\n",
       "      <th>attributes_BYOBCorkage</th>\n",
       "      <th>attributes_AgesAllowed</th>\n",
       "      <th>attributes_RestaurantsCounterService</th>\n",
       "      <th>attributes_Open24Hours</th>\n",
       "    </tr>\n",
       "  </thead>\n",
       "  <tbody>\n",
       "    <tr>\n",
       "      <th>0</th>\n",
       "      <td>f9NumwFMBDn751xgFiRbNA</td>\n",
       "      <td>The Range At Lake Norman</td>\n",
       "      <td>10913 Bailey Rd</td>\n",
       "      <td>Cornelius</td>\n",
       "      <td>NC</td>\n",
       "      <td>28031</td>\n",
       "      <td>35.462724</td>\n",
       "      <td>-80.852612</td>\n",
       "      <td>3.5</td>\n",
       "      <td>36</td>\n",
       "      <td>...</td>\n",
       "      <td>NaN</td>\n",
       "      <td>NaN</td>\n",
       "      <td>NaN</td>\n",
       "      <td>NaN</td>\n",
       "      <td>NaN</td>\n",
       "      <td>NaN</td>\n",
       "      <td>NaN</td>\n",
       "      <td>NaN</td>\n",
       "      <td>NaN</td>\n",
       "      <td>NaN</td>\n",
       "    </tr>\n",
       "    <tr>\n",
       "      <th>1</th>\n",
       "      <td>Yzvjg0SayhoZgCljUJRF9Q</td>\n",
       "      <td>Carlos Santo, NMD</td>\n",
       "      <td>8880 E Via Linda, Ste 107</td>\n",
       "      <td>Scottsdale</td>\n",
       "      <td>AZ</td>\n",
       "      <td>85258</td>\n",
       "      <td>33.569404</td>\n",
       "      <td>-111.890264</td>\n",
       "      <td>5.0</td>\n",
       "      <td>4</td>\n",
       "      <td>...</td>\n",
       "      <td>NaN</td>\n",
       "      <td>NaN</td>\n",
       "      <td>NaN</td>\n",
       "      <td>NaN</td>\n",
       "      <td>NaN</td>\n",
       "      <td>NaN</td>\n",
       "      <td>NaN</td>\n",
       "      <td>NaN</td>\n",
       "      <td>NaN</td>\n",
       "      <td>NaN</td>\n",
       "    </tr>\n",
       "    <tr>\n",
       "      <th>2</th>\n",
       "      <td>XNoUzKckATkOD1hP6vghZg</td>\n",
       "      <td>Felinus</td>\n",
       "      <td>3554 Rue Notre-Dame O</td>\n",
       "      <td>Montreal</td>\n",
       "      <td>QC</td>\n",
       "      <td>H4C 1P4</td>\n",
       "      <td>45.479984</td>\n",
       "      <td>-73.580070</td>\n",
       "      <td>5.0</td>\n",
       "      <td>5</td>\n",
       "      <td>...</td>\n",
       "      <td>NaN</td>\n",
       "      <td>NaN</td>\n",
       "      <td>NaN</td>\n",
       "      <td>NaN</td>\n",
       "      <td>NaN</td>\n",
       "      <td>NaN</td>\n",
       "      <td>NaN</td>\n",
       "      <td>NaN</td>\n",
       "      <td>NaN</td>\n",
       "      <td>NaN</td>\n",
       "    </tr>\n",
       "    <tr>\n",
       "      <th>3</th>\n",
       "      <td>6OAZjbxqM5ol29BuHsil3w</td>\n",
       "      <td>Nevada House of Hose</td>\n",
       "      <td>1015 Sharp Cir</td>\n",
       "      <td>North Las Vegas</td>\n",
       "      <td>NV</td>\n",
       "      <td>89030</td>\n",
       "      <td>36.219728</td>\n",
       "      <td>-115.127725</td>\n",
       "      <td>2.5</td>\n",
       "      <td>3</td>\n",
       "      <td>...</td>\n",
       "      <td>NaN</td>\n",
       "      <td>NaN</td>\n",
       "      <td>NaN</td>\n",
       "      <td>NaN</td>\n",
       "      <td>NaN</td>\n",
       "      <td>NaN</td>\n",
       "      <td>NaN</td>\n",
       "      <td>NaN</td>\n",
       "      <td>NaN</td>\n",
       "      <td>NaN</td>\n",
       "    </tr>\n",
       "    <tr>\n",
       "      <th>4</th>\n",
       "      <td>51M2Kk903DFYI6gnB5I6SQ</td>\n",
       "      <td>USE MY GUY SERVICES LLC</td>\n",
       "      <td>4827 E Downing Cir</td>\n",
       "      <td>Mesa</td>\n",
       "      <td>AZ</td>\n",
       "      <td>85205</td>\n",
       "      <td>33.428065</td>\n",
       "      <td>-111.726648</td>\n",
       "      <td>4.5</td>\n",
       "      <td>26</td>\n",
       "      <td>...</td>\n",
       "      <td>NaN</td>\n",
       "      <td>NaN</td>\n",
       "      <td>NaN</td>\n",
       "      <td>NaN</td>\n",
       "      <td>NaN</td>\n",
       "      <td>NaN</td>\n",
       "      <td>NaN</td>\n",
       "      <td>NaN</td>\n",
       "      <td>NaN</td>\n",
       "      <td>NaN</td>\n",
       "    </tr>\n",
       "  </tbody>\n",
       "</table>\n",
       "<p>5 rows × 60 columns</p>\n",
       "</div>"
      ],
      "text/plain": [
       "              business_id                      name  \\\n",
       "0  f9NumwFMBDn751xgFiRbNA  The Range At Lake Norman   \n",
       "1  Yzvjg0SayhoZgCljUJRF9Q         Carlos Santo, NMD   \n",
       "2  XNoUzKckATkOD1hP6vghZg                   Felinus   \n",
       "3  6OAZjbxqM5ol29BuHsil3w      Nevada House of Hose   \n",
       "4  51M2Kk903DFYI6gnB5I6SQ   USE MY GUY SERVICES LLC   \n",
       "\n",
       "                     address             city state postal_code   latitude  \\\n",
       "0            10913 Bailey Rd        Cornelius    NC       28031  35.462724   \n",
       "1  8880 E Via Linda, Ste 107       Scottsdale    AZ       85258  33.569404   \n",
       "2      3554 Rue Notre-Dame O         Montreal    QC     H4C 1P4  45.479984   \n",
       "3             1015 Sharp Cir  North Las Vegas    NV       89030  36.219728   \n",
       "4         4827 E Downing Cir             Mesa    AZ       85205  33.428065   \n",
       "\n",
       "    longitude  stars  review_count  ...  attributes_BestNights  \\\n",
       "0  -80.852612    3.5            36  ...                    NaN   \n",
       "1 -111.890264    5.0             4  ...                    NaN   \n",
       "2  -73.580070    5.0             5  ...                    NaN   \n",
       "3 -115.127725    2.5             3  ...                    NaN   \n",
       "4 -111.726648    4.5            26  ...                    NaN   \n",
       "\n",
       "  attributes_Music attributes_Smoking attributes_DietaryRestrictions  \\\n",
       "0              NaN                NaN                            NaN   \n",
       "1              NaN                NaN                            NaN   \n",
       "2              NaN                NaN                            NaN   \n",
       "3              NaN                NaN                            NaN   \n",
       "4              NaN                NaN                            NaN   \n",
       "\n",
       "  attributes_DriveThru attributes_HairSpecializesIn attributes_BYOBCorkage  \\\n",
       "0                  NaN                          NaN                    NaN   \n",
       "1                  NaN                          NaN                    NaN   \n",
       "2                  NaN                          NaN                    NaN   \n",
       "3                  NaN                          NaN                    NaN   \n",
       "4                  NaN                          NaN                    NaN   \n",
       "\n",
       "  attributes_AgesAllowed attributes_RestaurantsCounterService  \\\n",
       "0                    NaN                                  NaN   \n",
       "1                    NaN                                  NaN   \n",
       "2                    NaN                                  NaN   \n",
       "3                    NaN                                  NaN   \n",
       "4                    NaN                                  NaN   \n",
       "\n",
       "  attributes_Open24Hours  \n",
       "0                    NaN  \n",
       "1                    NaN  \n",
       "2                    NaN  \n",
       "3                    NaN  \n",
       "4                    NaN  \n",
       "\n",
       "[5 rows x 60 columns]"
      ]
     },
     "execution_count": 7,
     "metadata": {},
     "output_type": "execute_result"
    }
   ],
   "source": [
    "import json\n",
    "from flatten_json import flatten_json\n",
    "#r = reviews[0:30]\n",
    "df = pd.DataFrame([flatten_json(x) for x in businesses])\n",
    "df.head()"
   ]
  },
  {
   "cell_type": "code",
   "execution_count": 8,
   "metadata": {},
   "outputs": [
    {
     "name": "stdout",
     "output_type": "stream",
     "text": [
      "Index(['business_id', 'name', 'address', 'city', 'state', 'postal_code',\n",
      "       'latitude', 'longitude', 'stars', 'review_count', 'is_open',\n",
      "       'attributes_BusinessAcceptsCreditCards', 'attributes_BikeParking',\n",
      "       'attributes_GoodForKids', 'attributes_BusinessParking',\n",
      "       'attributes_ByAppointmentOnly', 'attributes_RestaurantsPriceRange2',\n",
      "       'categories', 'hours_Monday', 'hours_Tuesday', 'hours_Wednesday',\n",
      "       'hours_Thursday', 'hours_Friday', 'hours_Saturday', 'hours_Sunday',\n",
      "       'hours', 'attributes', 'attributes_DogsAllowed', 'attributes_WiFi',\n",
      "       'attributes_RestaurantsAttire', 'attributes_RestaurantsTakeOut',\n",
      "       'attributes_NoiseLevel', 'attributes_RestaurantsReservations',\n",
      "       'attributes_RestaurantsGoodForGroups', 'attributes_HasTV',\n",
      "       'attributes_Alcohol', 'attributes_RestaurantsDelivery',\n",
      "       'attributes_OutdoorSeating', 'attributes_Caters',\n",
      "       'attributes_WheelchairAccessible', 'attributes_AcceptsInsurance',\n",
      "       'attributes_RestaurantsTableService', 'attributes_Ambience',\n",
      "       'attributes_GoodForMeal', 'attributes_HappyHour',\n",
      "       'attributes_BusinessAcceptsBitcoin', 'attributes_BYOB',\n",
      "       'attributes_Corkage', 'attributes_GoodForDancing',\n",
      "       'attributes_CoatCheck', 'attributes_BestNights', 'attributes_Music',\n",
      "       'attributes_Smoking', 'attributes_DietaryRestrictions',\n",
      "       'attributes_DriveThru', 'attributes_HairSpecializesIn',\n",
      "       'attributes_BYOBCorkage', 'attributes_AgesAllowed',\n",
      "       'attributes_RestaurantsCounterService', 'attributes_Open24Hours'],\n",
      "      dtype='object')\n"
     ]
    }
   ],
   "source": [
    "print(df.columns)"
   ]
  },
  {
   "cell_type": "code",
   "execution_count": 27,
   "metadata": {},
   "outputs": [
    {
     "data": {
      "text/plain": [
       "(209393, 60)"
      ]
     },
     "execution_count": 27,
     "metadata": {},
     "output_type": "execute_result"
    }
   ],
   "source": [
    "df.shape"
   ]
  },
  {
   "cell_type": "code",
   "execution_count": 17,
   "metadata": {},
   "outputs": [
    {
     "name": "stdout",
     "output_type": "stream",
     "text": [
      "Index(['business_id', 'name', 'state', 'stars', 'review_count', 'categories',\n",
      "       'is_open'],\n",
      "      dtype='object')\n"
     ]
    }
   ],
   "source": [
    "important_features = df[['business_id','name', 'state','stars','review_count','categories','is_open']]\n",
    "print(important_features.columns)"
   ]
  },
  {
   "cell_type": "code",
   "execution_count": 18,
   "metadata": {},
   "outputs": [
    {
     "data": {
      "text/plain": [
       "array(['Active Life, Gun/Rifle Ranges, Guns & Ammo, Shopping',\n",
       "       'Health & Medical, Fitness & Instruction, Yoga, Active Life, Pilates',\n",
       "       'Pets, Pet Services, Pet Groomers', ...,\n",
       "       'Contractors, Local Services, Appliances & Repair, Heating & Air Conditioning/HVAC, Water Heater Installation/Repair, Plumbing, Home Services',\n",
       "       'Department Stores, Food, Mobile Phones, Fashion, Shopping, Grocery',\n",
       "       'American (New), Food, Burgers, Restaurants, Fast Food'],\n",
       "      dtype=object)"
      ]
     },
     "execution_count": 18,
     "metadata": {},
     "output_type": "execute_result"
    }
   ],
   "source": [
    "#We will focus on businesses in the Restaurant category\n",
    "important_features.categories.unique()"
   ]
  },
  {
   "cell_type": "code",
   "execution_count": 19,
   "metadata": {},
   "outputs": [
    {
     "data": {
      "text/html": [
       "<div>\n",
       "<style scoped>\n",
       "    .dataframe tbody tr th:only-of-type {\n",
       "        vertical-align: middle;\n",
       "    }\n",
       "\n",
       "    .dataframe tbody tr th {\n",
       "        vertical-align: top;\n",
       "    }\n",
       "\n",
       "    .dataframe thead th {\n",
       "        text-align: right;\n",
       "    }\n",
       "</style>\n",
       "<table border=\"1\" class=\"dataframe\">\n",
       "  <thead>\n",
       "    <tr style=\"text-align: right;\">\n",
       "      <th></th>\n",
       "      <th>business_id</th>\n",
       "      <th>name</th>\n",
       "      <th>state</th>\n",
       "      <th>stars</th>\n",
       "      <th>review_count</th>\n",
       "      <th>categories</th>\n",
       "      <th>is_open</th>\n",
       "    </tr>\n",
       "  </thead>\n",
       "  <tbody>\n",
       "    <tr>\n",
       "      <th>0</th>\n",
       "      <td>f9NumwFMBDn751xgFiRbNA</td>\n",
       "      <td>The Range At Lake Norman</td>\n",
       "      <td>NC</td>\n",
       "      <td>3.5</td>\n",
       "      <td>36</td>\n",
       "      <td>Active Life, Gun/Rifle Ranges, Guns &amp; Ammo, Sh...</td>\n",
       "      <td>1</td>\n",
       "    </tr>\n",
       "    <tr>\n",
       "      <th>1</th>\n",
       "      <td>Yzvjg0SayhoZgCljUJRF9Q</td>\n",
       "      <td>Carlos Santo, NMD</td>\n",
       "      <td>AZ</td>\n",
       "      <td>5.0</td>\n",
       "      <td>4</td>\n",
       "      <td>Health &amp; Medical, Fitness &amp; Instruction, Yoga,...</td>\n",
       "      <td>1</td>\n",
       "    </tr>\n",
       "    <tr>\n",
       "      <th>2</th>\n",
       "      <td>XNoUzKckATkOD1hP6vghZg</td>\n",
       "      <td>Felinus</td>\n",
       "      <td>QC</td>\n",
       "      <td>5.0</td>\n",
       "      <td>5</td>\n",
       "      <td>Pets, Pet Services, Pet Groomers</td>\n",
       "      <td>1</td>\n",
       "    </tr>\n",
       "    <tr>\n",
       "      <th>3</th>\n",
       "      <td>6OAZjbxqM5ol29BuHsil3w</td>\n",
       "      <td>Nevada House of Hose</td>\n",
       "      <td>NV</td>\n",
       "      <td>2.5</td>\n",
       "      <td>3</td>\n",
       "      <td>Hardware Stores, Home Services, Building Suppl...</td>\n",
       "      <td>0</td>\n",
       "    </tr>\n",
       "    <tr>\n",
       "      <th>4</th>\n",
       "      <td>51M2Kk903DFYI6gnB5I6SQ</td>\n",
       "      <td>USE MY GUY SERVICES LLC</td>\n",
       "      <td>AZ</td>\n",
       "      <td>4.5</td>\n",
       "      <td>26</td>\n",
       "      <td>Home Services, Plumbing, Electricians, Handyma...</td>\n",
       "      <td>1</td>\n",
       "    </tr>\n",
       "  </tbody>\n",
       "</table>\n",
       "</div>"
      ],
      "text/plain": [
       "              business_id                      name state  stars  \\\n",
       "0  f9NumwFMBDn751xgFiRbNA  The Range At Lake Norman    NC    3.5   \n",
       "1  Yzvjg0SayhoZgCljUJRF9Q         Carlos Santo, NMD    AZ    5.0   \n",
       "2  XNoUzKckATkOD1hP6vghZg                   Felinus    QC    5.0   \n",
       "3  6OAZjbxqM5ol29BuHsil3w      Nevada House of Hose    NV    2.5   \n",
       "4  51M2Kk903DFYI6gnB5I6SQ   USE MY GUY SERVICES LLC    AZ    4.5   \n",
       "\n",
       "   review_count                                         categories  is_open  \n",
       "0            36  Active Life, Gun/Rifle Ranges, Guns & Ammo, Sh...        1  \n",
       "1             4  Health & Medical, Fitness & Instruction, Yoga,...        1  \n",
       "2             5                   Pets, Pet Services, Pet Groomers        1  \n",
       "3             3  Hardware Stores, Home Services, Building Suppl...        0  \n",
       "4            26  Home Services, Plumbing, Electricians, Handyma...        1  "
      ]
     },
     "execution_count": 19,
     "metadata": {},
     "output_type": "execute_result"
    }
   ],
   "source": [
    "important_features.head()"
   ]
  },
  {
   "cell_type": "code",
   "execution_count": 24,
   "metadata": {},
   "outputs": [],
   "source": [
    "df_restaurants = important_features[important_features.categories.str.contains(\"Restaurants\", na=False)]"
   ]
  },
  {
   "cell_type": "code",
   "execution_count": 25,
   "metadata": {},
   "outputs": [
    {
     "data": {
      "text/html": [
       "<div>\n",
       "<style scoped>\n",
       "    .dataframe tbody tr th:only-of-type {\n",
       "        vertical-align: middle;\n",
       "    }\n",
       "\n",
       "    .dataframe tbody tr th {\n",
       "        vertical-align: top;\n",
       "    }\n",
       "\n",
       "    .dataframe thead th {\n",
       "        text-align: right;\n",
       "    }\n",
       "</style>\n",
       "<table border=\"1\" class=\"dataframe\">\n",
       "  <thead>\n",
       "    <tr style=\"text-align: right;\">\n",
       "      <th></th>\n",
       "      <th>business_id</th>\n",
       "      <th>name</th>\n",
       "      <th>state</th>\n",
       "      <th>stars</th>\n",
       "      <th>review_count</th>\n",
       "      <th>categories</th>\n",
       "      <th>is_open</th>\n",
       "    </tr>\n",
       "  </thead>\n",
       "  <tbody>\n",
       "    <tr>\n",
       "      <th>8</th>\n",
       "      <td>pQeaRpvuhoEqudo3uymHIQ</td>\n",
       "      <td>The Empanadas House</td>\n",
       "      <td>IL</td>\n",
       "      <td>4.5</td>\n",
       "      <td>5</td>\n",
       "      <td>Ethnic Food, Food Trucks, Specialty Food, Impo...</td>\n",
       "      <td>1</td>\n",
       "    </tr>\n",
       "    <tr>\n",
       "      <th>20</th>\n",
       "      <td>CsLQLiRoafpJPJSkNX2h5Q</td>\n",
       "      <td>Middle East Deli</td>\n",
       "      <td>NC</td>\n",
       "      <td>3.0</td>\n",
       "      <td>5</td>\n",
       "      <td>Food, Restaurants, Grocery, Middle Eastern</td>\n",
       "      <td>0</td>\n",
       "    </tr>\n",
       "    <tr>\n",
       "      <th>24</th>\n",
       "      <td>eBEfgOPG7pvFhb2wcG9I7w</td>\n",
       "      <td>Philthy Phillys</td>\n",
       "      <td>ON</td>\n",
       "      <td>4.5</td>\n",
       "      <td>4</td>\n",
       "      <td>Restaurants, Cheesesteaks, Poutineries</td>\n",
       "      <td>1</td>\n",
       "    </tr>\n",
       "    <tr>\n",
       "      <th>25</th>\n",
       "      <td>lu7vtrp_bE9PnxWfA8g4Pg</td>\n",
       "      <td>Banzai Sushi</td>\n",
       "      <td>ON</td>\n",
       "      <td>4.5</td>\n",
       "      <td>7</td>\n",
       "      <td>Japanese, Fast Food, Food Court, Restaurants</td>\n",
       "      <td>1</td>\n",
       "    </tr>\n",
       "    <tr>\n",
       "      <th>30</th>\n",
       "      <td>9sRGfSVEfLhN_km60YruTA</td>\n",
       "      <td>Apadana Restaurant</td>\n",
       "      <td>ON</td>\n",
       "      <td>3.0</td>\n",
       "      <td>3</td>\n",
       "      <td>Persian/Iranian, Turkish, Middle Eastern, Rest...</td>\n",
       "      <td>1</td>\n",
       "    </tr>\n",
       "  </tbody>\n",
       "</table>\n",
       "</div>"
      ],
      "text/plain": [
       "               business_id                 name state  stars  review_count  \\\n",
       "8   pQeaRpvuhoEqudo3uymHIQ  The Empanadas House    IL    4.5             5   \n",
       "20  CsLQLiRoafpJPJSkNX2h5Q     Middle East Deli    NC    3.0             5   \n",
       "24  eBEfgOPG7pvFhb2wcG9I7w      Philthy Phillys    ON    4.5             4   \n",
       "25  lu7vtrp_bE9PnxWfA8g4Pg         Banzai Sushi    ON    4.5             7   \n",
       "30  9sRGfSVEfLhN_km60YruTA   Apadana Restaurant    ON    3.0             3   \n",
       "\n",
       "                                           categories  is_open  \n",
       "8   Ethnic Food, Food Trucks, Specialty Food, Impo...        1  \n",
       "20         Food, Restaurants, Grocery, Middle Eastern        0  \n",
       "24             Restaurants, Cheesesteaks, Poutineries        1  \n",
       "25       Japanese, Fast Food, Food Court, Restaurants        1  \n",
       "30  Persian/Iranian, Turkish, Middle Eastern, Rest...        1  "
      ]
     },
     "execution_count": 25,
     "metadata": {},
     "output_type": "execute_result"
    }
   ],
   "source": [
    "df_restaurants.head()"
   ]
  },
  {
   "cell_type": "code",
   "execution_count": 26,
   "metadata": {},
   "outputs": [
    {
     "data": {
      "text/plain": [
       "(63944, 7)"
      ]
     },
     "execution_count": 26,
     "metadata": {},
     "output_type": "execute_result"
    }
   ],
   "source": [
    "df_restaurants.shape"
   ]
  },
  {
   "cell_type": "code",
   "execution_count": 29,
   "metadata": {},
   "outputs": [
    {
     "name": "stdout",
     "output_type": "stream",
     "text": [
      "False\n"
     ]
    }
   ],
   "source": [
    "print(df_restaurants.isnull().values.any())"
   ]
  },
  {
   "cell_type": "code",
   "execution_count": 30,
   "metadata": {},
   "outputs": [],
   "source": [
    "df_restaurants.to_csv('data/business_data.csv', encoding='utf-8', index=False)"
   ]
  },
  {
   "cell_type": "code",
   "execution_count": 31,
   "metadata": {},
   "outputs": [
    {
     "name": "stdout",
     "output_type": "stream",
     "text": [
      "README.MD\r\n",
      "\u001b[34mdata\u001b[m\u001b[m/\r\n",
      "get_reviews.py\r\n",
      "load_save_restaurant_business_data.ipynb\r\n",
      "load_save_review_data.ipynb\r\n",
      "notebook_env.db\r\n",
      "req.txt\r\n",
      "separate_by_buisiness_id.ipynb\r\n",
      "test_models.ipynb\r\n"
     ]
    }
   ],
   "source": [
    "ls"
   ]
  },
  {
   "cell_type": "code",
   "execution_count": 32,
   "metadata": {},
   "outputs": [
    {
     "name": "stdout",
     "output_type": "stream",
     "text": [
      "/Users/isabelli/Developer/DataSciLabFinalProject/sentiment-analysis-yelp/data\n"
     ]
    }
   ],
   "source": [
    "cd data/ta"
   ]
  },
  {
   "cell_type": "code",
   "execution_count": 33,
   "metadata": {},
   "outputs": [
    {
     "name": "stdout",
     "output_type": "stream",
     "text": [
      "\u001b[34mbusiness\u001b[m\u001b[m/          business_data.csv  reviews.csv        t.txt\r\n"
     ]
    }
   ],
   "source": [
    "ls\n"
   ]
  },
  {
   "cell_type": "code",
   "execution_count": null,
   "metadata": {},
   "outputs": [],
   "source": []
  }
 ],
 "metadata": {
  "kernelspec": {
   "display_name": "Python 3",
   "language": "python",
   "name": "python3"
  },
  "language_info": {
   "codemirror_mode": {
    "name": "ipython",
    "version": 3
   },
   "file_extension": ".py",
   "mimetype": "text/x-python",
   "name": "python",
   "nbconvert_exporter": "python",
   "pygments_lexer": "ipython3",
   "version": "3.7.6"
  }
 },
 "nbformat": 4,
 "nbformat_minor": 4
}
